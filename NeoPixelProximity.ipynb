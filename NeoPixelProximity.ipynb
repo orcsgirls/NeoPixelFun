{
 "cells": [
  {
   "cell_type": "markdown",
   "id": "b2cf03d5",
   "metadata": {},
   "source": [
    "### NeoPixels\n",
    "\n",
    "More examples with the NeoPixel strip - this time we use the proximity sensor - simular to the Halloween code 🎃\n"
   ]
  },
  {
   "cell_type": "code",
   "execution_count": null,
   "id": "2f7c050c",
   "metadata": {},
   "outputs": [],
   "source": [
    "import time\n",
    "import board\n",
    "import busio\n",
    "import colorsys as col\n",
    "from rainbowio import colorwheel\n",
    "from adafruit_seesaw import seesaw, neopixel\n",
    "\n",
    "i2c_bus = busio.I2C(board.SCL, board.SDA)\n",
    "ss = seesaw.Seesaw(i2c_bus)"
   ]
  },
  {
   "cell_type": "markdown",
   "id": "571b3e14",
   "metadata": {},
   "source": [
    "The only difference to before is that we set `NEOPIXEL_NUM` to 8."
   ]
  },
  {
   "cell_type": "code",
   "execution_count": null,
   "id": "5c7ce740",
   "metadata": {},
   "outputs": [],
   "source": [
    "NEOPIXEL_PIN = 9  # change to Pin NeoPixel is connected to (9, 10, 11, 14, 15, 24, or 25 )\n",
    "NEOPIXEL_NUM = 8  # we have 8 neopixels now.\n",
    "\n",
    "pixels = neopixel.NeoPixel(ss, NEOPIXEL_PIN, NEOPIXEL_NUM)"
   ]
  },
  {
   "cell_type": "markdown",
   "id": "b409434a",
   "metadata": {},
   "source": [
    "Loading the proximity sensor driver. Remember it measures distance."
   ]
  },
  {
   "cell_type": "code",
   "execution_count": null,
   "id": "1488c0bb",
   "metadata": {},
   "outputs": [],
   "source": [
    "import time\n",
    "from IPython.display import clear_output\n",
    "from ltr559 import LTR559\n",
    "\n",
    "ltr559 = LTR559()"
   ]
  },
  {
   "cell_type": "markdown",
   "id": "9ba12250",
   "metadata": {},
   "source": [
    "#### Example 1 - change color \n",
    "\n",
    "First we will change the color of the NeoPixels as something approaches the proximity sensor. Remember values go from 0 (far) to 2048 (super close). We will use this value to select the color on the color wheel (hue - see other notebook)."
   ]
  },
  {
   "cell_type": "code",
   "execution_count": null,
   "id": "c7d02a4a",
   "metadata": {},
   "outputs": [],
   "source": [
    "pixels.fill((0,0,0))        # All off\n",
    "maxProximity = 1000         # At this proximity we want all pixels on\n",
    "\n",
    "try:\n",
    "    while True:\n",
    "        ltr559.update_sensor()\n",
    "        prox = ltr559.get_proximity()\n",
    "\n",
    "        # Convery proximity to hue (0-1)\n",
    "        hue = prox/2048.        \n",
    "        rgb = col.hsv_to_rgb(hue, 1.0, 0.5)   # Comes back as (0..1, 0..1, 0..1) color\n",
    "        pixels.fill(tuple([int(255*v) for v in rgb]))  # This multiplies each by 255 and makes an integer\n",
    "        \n",
    "except KeyboardInterrupt:\n",
    "    pixels.auto_write = True\n",
    "    pixels.fill((0,0,0))\n",
    "    print('Aborted')"
   ]
  },
  {
   "cell_type": "markdown",
   "id": "20afcc6f",
   "metadata": {},
   "source": [
    "#### Example 2 - Change number of pixels \n",
    "\n",
    "We will light up more NeoPixels as something approaches the proximity sensor. Remember values go from 0 (far) to 2048 (super close)."
   ]
  },
  {
   "cell_type": "code",
   "execution_count": null,
   "id": "8196ea02",
   "metadata": {},
   "outputs": [],
   "source": [
    "pixels.fill((0,0,0))        # All off\n",
    "pixels.auto_write = False   # Auto write off\n",
    "saturation = 1.0\n",
    "value = 0.5\n",
    "\n",
    "try:\n",
    "    while True:\n",
    "        ltr559.update_sensor()\n",
    "        prox = ltr559.get_proximity()\n",
    "\n",
    "        # Convert proximity to value 1 - 8 for number of NeoPixels\n",
    "        \n",
    "        lights = int(prox/maxProximity * NEOPIXEL_NUM)\n",
    "        if lights > NEOPIXEL_NUM:\n",
    "            lights = NEOPIXEL_NUM\n",
    "            \n",
    "        # Now turn the right number on\n",
    "        \n",
    "        pixels.fill((0,0,0))\n",
    "        for p in range(lights):\n",
    "            pixels[p] = fillColor\n",
    "        pixels.show()\n",
    "        \n",
    "except KeyboardInterrupt:\n",
    "    pixels.auto_write = True\n",
    "    pixels.fill((0,0,0))\n",
    "    print('Aborted')"
   ]
  },
  {
   "cell_type": "code",
   "execution_count": null,
   "id": "57cee45d",
   "metadata": {},
   "outputs": [],
   "source": []
  }
 ],
 "metadata": {
  "kernelspec": {
   "display_name": "Python 3",
   "language": "python",
   "name": "python3"
  },
  "language_info": {
   "codemirror_mode": {
    "name": "ipython",
    "version": 3
   },
   "file_extension": ".py",
   "mimetype": "text/x-python",
   "name": "python",
   "nbconvert_exporter": "python",
   "pygments_lexer": "ipython3",
   "version": "3.7.3"
  }
 },
 "nbformat": 4,
 "nbformat_minor": 5
}
